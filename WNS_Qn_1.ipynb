{
  "cells": [
    {
      "cell_type": "markdown",
      "metadata": {
        "id": "view-in-github",
        "colab_type": "text"
      },
      "source": [
        "<a href=\"https://colab.research.google.com/github/Paarthkhandelwal29/WNS-Task-1/blob/main/WNS_Qn_1.ipynb\" target=\"_parent\"><img src=\"https://colab.research.google.com/assets/colab-badge.svg\" alt=\"Open In Colab\"/></a>"
      ]
    },
    {
      "cell_type": "code",
      "execution_count": null,
      "metadata": {
        "id": "LXOHTm1Q_kAL"
      },
      "outputs": [],
      "source": [
        "import json\n",
        "import pandas as pd"
      ]
    },
    {
      "cell_type": "markdown",
      "metadata": {
        "id": "VfVtjCHCCXwu"
      },
      "source": [
        "Uploading the json file"
      ]
    },
    {
      "cell_type": "code",
      "execution_count": null,
      "metadata": {
        "id": "N8tqaIeq_qPg"
      },
      "outputs": [],
      "source": [
        "json_file_path = '/content/WNS_Data1.json'"
      ]
    },
    {
      "cell_type": "code",
      "execution_count": null,
      "metadata": {
        "id": "F0Dp97MxBciR"
      },
      "outputs": [],
      "source": [
        "with open(json_file_path) as f:\n",
        "    data = json.load(f)"
      ]
    },
    {
      "cell_type": "markdown",
      "metadata": {
        "id": "Z6x_N2jOCqwz"
      },
      "source": [
        "Lists to store individual data points"
      ]
    },
    {
      "cell_type": "code",
      "execution_count": null,
      "metadata": {
        "id": "QptV48QwBfS-"
      },
      "outputs": [],
      "source": [
        "names = []\n",
        "addresses = []\n",
        "mobile_numbers = []\n",
        "dates_of_birth = []\n"
      ]
    },
    {
      "cell_type": "code",
      "execution_count": 28,
      "metadata": {
        "id": "h8UtLaeiBhf2"
      },
      "outputs": [],
      "source": [
        "for person in data['people']:\n",
        "    names.append(person['name'])\n",
        "    addresses.append(person['address'])\n",
        "    # Check if the person has mobile numbers\n",
        "    if person['mobile_numbers']:\n",
        "        mobile_numbers.append(', '.join(person['mobile_numbers']))\n",
        "    else:\n",
        "        mobile_numbers.append(None)  # Append None if no mobile numbers\n",
        "    dates_of_birth.append(person['date_of_birth'])"
      ]
    },
    {
      "cell_type": "markdown",
      "metadata": {
        "id": "Ztd-6A99C0rN"
      },
      "source": [
        "Dictionary to store the data"
      ]
    },
    {
      "cell_type": "code",
      "execution_count": 29,
      "metadata": {
        "id": "6Bwfux4XBjzW"
      },
      "outputs": [],
      "source": [
        "data_dict = {\n",
        "    'Name': names,\n",
        "    'Address': addresses,\n",
        "    'Mobile Numbers': mobile_numbers,\n",
        "    'Date of Birth': dates_of_birth\n",
        "}\n"
      ]
    },
    {
      "cell_type": "markdown",
      "metadata": {
        "id": "FgEdoI7WC6kW"
      },
      "source": [
        "Creating a DataFrame from the dictionary"
      ]
    },
    {
      "cell_type": "code",
      "execution_count": 34,
      "metadata": {
        "id": "rMhFxtEGBl1d"
      },
      "outputs": [],
      "source": [
        "df = pd.DataFrame(data_dict)\n",
        "pd.set_option('display.max_colwidth', None)\n",
        "pd.set_option('display.width', 1000)"
      ]
    },
    {
      "cell_type": "markdown",
      "metadata": {
        "id": "F38st16SC-v0"
      },
      "source": [
        "Displaying the data"
      ]
    },
    {
      "cell_type": "code",
      "execution_count": 35,
      "metadata": {
        "colab": {
          "base_uri": "https://localhost:8080/"
        },
        "id": "kGp29z5nB-aG",
        "outputId": "6644b8e4-cb19-40d2-cd50-0cf951f56611"
      },
      "outputs": [
        {
          "output_type": "stream",
          "name": "stdout",
          "text": [
            "             Name                        Address                              Mobile Numbers Date of Birth\n",
            "0        John Doe    123 Main St, Cityville, USA                  123-456-7890, 987-654-3210    1990-05-15\n",
            "1      Jane Smith    456 Elm St, Townsville, USA                                555-555-5555    1985-10-25\n",
            "2   Alice Johnson   789 Oak St, Villagetown, USA    111-222-3333, 444-555-6666, 777-888-9999    1978-03-12\n",
            "3       Bob Brown  987 Pine St, Hamletville, USA                                                1995-12-03\n",
            "4        John Doe    123 Main St, Cityville, USA                [123-456-7890, 987-654-3210]    1990-05-15\n",
            "5      Jane Smith    456 Elm St, Townsville, USA                              [555-555-5555]    1985-10-25\n",
            "6   Alice Johnson   789 Oak St, Villagetown, USA  [111-222-3333, 444-555-6666, 777-888-9999]    1978-03-12\n",
            "7       Bob Brown  987 Pine St, Hamletville, USA                                          []    1995-12-03\n",
            "8        John Doe    123 Main St, Cityville, USA                  123-456-7890, 987-654-3210    1990-05-15\n",
            "9      Jane Smith    456 Elm St, Townsville, USA                                555-555-5555    1985-10-25\n",
            "10  Alice Johnson   789 Oak St, Villagetown, USA    111-222-3333, 444-555-6666, 777-888-9999    1978-03-12\n",
            "11      Bob Brown  987 Pine St, Hamletville, USA                                        None    1995-12-03\n"
          ]
        }
      ],
      "source": [
        "print(df)"
      ]
    }
  ],
  "metadata": {
    "colab": {
      "provenance": [],
      "authorship_tag": "ABX9TyPc6mlNC79LvVoIM9c8ge94",
      "include_colab_link": true
    },
    "kernelspec": {
      "display_name": "Python 3",
      "name": "python3"
    },
    "language_info": {
      "name": "python"
    }
  },
  "nbformat": 4,
  "nbformat_minor": 0
}